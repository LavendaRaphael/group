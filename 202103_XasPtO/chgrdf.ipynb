{
 "cells": [
  {
   "cell_type": "code",
   "execution_count": 1,
   "id": "0537e741-cacb-48c3-a57f-a10a670c4397",
   "metadata": {},
   "outputs": [],
   "source": [
    "from ase.calculators.vasp import VaspChargeDensity\n",
    "import os\n",
    "import numpy\n",
    "import from_xas_modules\n",
    "import math"
   ]
  },
  {
   "cell_type": "code",
   "execution_count": 2,
   "id": "033d5fd1-ebdd-48ab-a163-c2ab846b031b",
   "metadata": {},
   "outputs": [
    {
     "name": "stdout",
     "output_type": "stream",
     "text": [
      "/home/faye/comput/202103_XasPtO/server/Pt.110_O_vac/Pt.110.x2y3z4.5_O1_vac15/vasp_sch/atom_1\n"
     ]
    }
   ],
   "source": [
    "str_comput_110=os.environ['goto_pto_comput_110']\n",
    "str_chdir = str_comput_110+'Pt.110.x2y3z4.5_O1_vac15/vasp_sch/atom_1/'\n",
    "os.chdir(str_chdir)\n",
    "print(os.getcwd())"
   ]
  },
  {
   "cell_type": "code",
   "execution_count": 3,
   "id": "88347fb7-3041-4aa6-8013-04d680657982",
   "metadata": {},
   "outputs": [],
   "source": [
    "vchg = VaspChargeDensity(filename='peak_1/WFN_SQUARED_B0271_K0006.vasp')\n",
    "atoms = vchg.atoms[0]\n",
    "array3d_chg=vchg.chg[0]"
   ]
  },
  {
   "cell_type": "code",
   "execution_count": 5,
   "id": "75a4c886-0373-4b72-b79f-e05f936ff9c3",
   "metadata": {},
   "outputs": [
    {
     "name": "stdout",
     "output_type": "stream",
     "text": [
      "{\n",
      "    \"float_chg\": 0.0005525695333523424\n",
      "}\n",
      "{\n",
      "    \"array1d_cell_grid\": [\n",
      "        \"numpy.ndarray\",\n",
      "        [\n",
      "            199,\n",
      "            211,\n",
      "            678\n",
      "        ]\n",
      "    ]\n",
      "}\n",
      "{\n",
      "    \"array1d_cell_grid2\": [\n",
      "        \"numpy.ndarray\",\n",
      "        [\n",
      "            99.5,\n",
      "            105.5,\n",
      "            339.0\n",
      "        ]\n",
      "    ]\n",
      "}\n",
      "{\n",
      "    \"int_ngrid\": [\n",
      "        \"numpy.integer\",\n",
      "        28468542\n",
      "    ]\n",
      "}\n",
      "{\n",
      "    \"float_volume\": 1809.7270137148748\n",
      "}\n",
      "{\n",
      "    \"float_volslice\": 6.356936065481945e-05\n",
      "}\n",
      "{\n",
      "    \"float_chg_volslice\": 3.512649195254033e-08\n",
      "}\n",
      "{\n",
      "    \"float_chg_volume\": 1.0000000114635565\n",
      "}\n"
     ]
    }
   ],
   "source": [
    "float_chg=numpy.sum(array3d_chg)\n",
    "from_xas_modules.def_print_paras( locals(), ['float_chg'] )\n",
    "\n",
    "array1d_cell_grid=numpy.array(numpy.shape(array3d_chg))\n",
    "from_xas_modules.def_print_paras( locals(), ['array1d_cell_grid'] )\n",
    "\n",
    "array1d_cell_grid2 = array1d_cell_grid / 2\n",
    "from_xas_modules.def_print_paras( locals(), ['array1d_cell_grid2'] )\n",
    "\n",
    "int_ngrid = 1\n",
    "for int_i in array1d_cell_grid:\n",
    "    int_ngrid *= int_i\n",
    "from_xas_modules.def_print_paras( locals(), ['int_ngrid'] )\n",
    "\n",
    "float_volume=atoms.get_volume()\n",
    "from_xas_modules.def_print_paras( locals(), ['float_volume'] )\n",
    "\n",
    "float_volslice = float_volume/int_ngrid\n",
    "from_xas_modules.def_print_paras( locals(), ['float_volslice'] )\n",
    "\n",
    "float_chg_volslice = float_chg*float_volslice\n",
    "from_xas_modules.def_print_paras( locals(), ['float_chg_volslice'] )\n",
    "\n",
    "float_chg_volume = float_chg*float_volume\n",
    "from_xas_modules.def_print_paras( locals(), ['float_chg_volume'] )"
   ]
  },
  {
   "cell_type": "code",
   "execution_count": 8,
   "id": "c7a81f43-330e-48dd-9d8b-8a08821bbbd8",
   "metadata": {},
   "outputs": [
    {
     "name": "stdout",
     "output_type": "stream",
     "text": [
      "{\n",
      "    \"array1d_atom1pos\": [\n",
      "        \"numpy.ndarray\",\n",
      "        [\n",
      "            1.2756119928682728,\n",
      "            1.4026370280527225,\n",
      "            12.73790556498833\n",
      "        ]\n",
      "    ]\n",
      "}\n",
      "{\n",
      "    \"array1d_cell\": [\n",
      "        \"numpy.ndarray\",\n",
      "        [\n",
      "            7.934514,\n",
      "            8.415822,\n",
      "            27.101679\n",
      "        ]\n",
      "    ]\n",
      "}\n",
      "{\n",
      "    \"array1d_gridpara\": [\n",
      "        \"numpy.ndarray\",\n",
      "        [\n",
      "            0.039871929648241204,\n",
      "            0.03988541232227488,\n",
      "            0.039972977876106194\n",
      "        ]\n",
      "    ]\n",
      "}\n",
      "{\n",
      "    \"array1d_atom1pos_grid\": [\n",
      "        \"numpy.ndarray\",\n",
      "        [\n",
      "            31.992732835405707,\n",
      "            35.16666736999956,\n",
      "            318.662912842488\n",
      "        ]\n",
      "    ]\n",
      "}\n",
      "{\n",
      "    \"float_r0_grid\": [\n",
      "        \"numpy.ndarray\",\n",
      "        [\n",
      "            75.24090322356228,\n",
      "            75.2154691484682,\n",
      "            75.05070073333833\n",
      "        ]\n",
      "    ]\n",
      "}\n",
      "{\n",
      "    \"float_slice\": 0.04\n",
      "}\n",
      "{\n",
      "    \"int_nslice\": 74\n",
      "}\n"
     ]
    }
   ],
   "source": [
    "array1d_atom1pos = atoms.get_positions()[0]\n",
    "from_xas_modules.def_print_paras( locals(), ['array1d_atom1pos'] )\n",
    "\n",
    "array1d_cell = atoms.cell.cellpar()[0:3]\n",
    "from_xas_modules.def_print_paras( locals(), ['array1d_cell'] )\n",
    "\n",
    "array1d_gridpara = array1d_cell/array1d_cell_grid\n",
    "from_xas_modules.def_print_paras( locals(), ['array1d_gridpara'] )\n",
    "\n",
    "array1d_atom1pos_grid = array1d_atom1pos/array1d_gridpara\n",
    "from_xas_modules.def_print_paras( locals(), ['array1d_atom1pos_grid'] )\n",
    "\n",
    "float_r0 = 3.0\n",
    "float_r0_grid = float_r0/array1d_gridpara\n",
    "from_xas_modules.def_print_paras( locals(), ['float_r0_grid'] )\n",
    "\n",
    "float_slice = 0.04\n",
    "from_xas_modules.def_print_paras( locals(), ['float_slice'] )\n",
    "\n",
    "int_nslice = int(float_r0 // float_slice)\n",
    "from_xas_modules.def_print_paras( locals(), ['int_nslice'] )\n",
    "array1d_rdf = numpy.zeros( shape=(int_nslice) )"
   ]
  },
  {
   "cell_type": "code",
   "execution_count": null,
   "id": "f3aaff33-8d68-4ff4-bd49-5f6d59024a1e",
   "metadata": {},
   "outputs": [],
   "source": [
    "for int_z in range(array1d_cell_grid[2]):\n",
    "    float_dis_gridz = (int_z-array1d_atom1pos_grid[2]) % array1d_cell_grid2[2]\n",
    "    if (float_dis_gridz > float_r0_grid[2]): continue\n",
    "    for int_y in range(array1d_cell_grid[1]):\n",
    "        float_dis_gridy = (int_y-array1d_atom1pos_grid[1]) % array1d_cell_grid2[1]\n",
    "        if (float_dis_gridy > float_r0_grid[1]): continue\n",
    "        for int_x in range(array1d_cell_grid[0]):\n",
    "            float_dis_gridx = (int_x-array1d_atom1pos_grid[0]) % array1d_cell_grid2[0]\n",
    "            if (float_dis_gridx > float_r0_grid[0]): continue\n",
    "            float_dis = math.sqrt( ( float_dis_gridz * array1d_gridpara[2] )**2 + ( float_dis_gridy * array1d_gridpara[1] )**2 + ( float_dis_gridx * array1d_gridpara[0] )**2 )\n",
    "            if (float_dis > float_r0): continue\n",
    "            int_temp = int( float_dis // float_slice)\n",
    "            array1d_rdf( int_temp ) += array3d_chg( int_x, int_y, int_z )"
   ]
  }
 ],
 "metadata": {
  "kernelspec": {
   "display_name": "Python 3 (ipykernel)",
   "language": "python",
   "name": "python3"
  },
  "language_info": {
   "codemirror_mode": {
    "name": "ipython",
    "version": 3
   },
   "file_extension": ".py",
   "mimetype": "text/x-python",
   "name": "python",
   "nbconvert_exporter": "python",
   "pygments_lexer": "ipython3",
   "version": "3.7.11"
  }
 },
 "nbformat": 4,
 "nbformat_minor": 5
}
