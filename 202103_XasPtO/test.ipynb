{
 "cells": [
  {
   "cell_type": "code",
   "execution_count": 12,
   "id": "c90ab80c-0f5b-4741-a088-22eae2cb7115",
   "metadata": {
    "tags": []
   },
   "outputs": [
    {
     "name": "stdout",
     "output_type": "stream",
     "text": [
      "[array([[1],\n",
      "       [2],\n",
      "       [3]]), array([[1],\n",
      "       [2],\n",
      "       [3]])]\n"
     ]
    }
   ],
   "source": [
    "import numpy\n",
    "a=[\n",
    "    numpy.array([1,2,3]),\n",
    "    numpy.array([[1],[2],[3]])\n",
    "    ]\n",
    "int_lenline = numpy.shape( a[0] )[0]\n",
    "for int_i in range(len(a)):\n",
    "    if ( a[int_i].ndim == 2 ): continue\n",
    "    a[int_i] = a[int_i].reshape(int_lenline,1)\n",
    "print(a)"
   ]
  },
  {
   "cell_type": "code",
   "execution_count": null,
   "id": "80c8d56a-5b15-4b06-b7d9-6d7ad991b294",
   "metadata": {},
   "outputs": [],
   "source": []
  }
 ],
 "metadata": {
  "kernelspec": {
   "display_name": "Python 3 (ipykernel)",
   "language": "python",
   "name": "python3"
  },
  "language_info": {
   "codemirror_mode": {
    "name": "ipython",
    "version": 3
   },
   "file_extension": ".py",
   "mimetype": "text/x-python",
   "name": "python",
   "nbconvert_exporter": "python",
   "pygments_lexer": "ipython3",
   "version": "3.7.11"
  }
 },
 "nbformat": 4,
 "nbformat_minor": 5
}
