{
 "cells": [
  {
   "cell_type": "code",
   "execution_count": 1,
   "id": "0537e741-cacb-48c3-a57f-a10a670c4397",
   "metadata": {},
   "outputs": [],
   "source": [
    "from ase.calculators.vasp import VaspChargeDensity\n",
    "import os\n",
    "import numpy\n",
    "import from_xas_modules"
   ]
  },
  {
   "cell_type": "code",
   "execution_count": 4,
   "id": "033d5fd1-ebdd-48ab-a163-c2ab846b031b",
   "metadata": {},
   "outputs": [
    {
     "name": "stdout",
     "output_type": "stream",
     "text": [
      "/home/faye/comput/202103_XasPtO/server/Pt.110_O_vac/Pt.110.x2y3z4.5_O1_vac15/vasp_sch/atom_1\n"
     ]
    }
   ],
   "source": [
    "str_comput_110=os.environ['goto_pto_comput_110']\n",
    "\n",
    "str_chdir = str_comput_110+'Pt.110.x2y3z4.5_O1_vac15/vasp_sch/atom_1/'\n",
    "os.chdir(str_chdir)\n",
    "print(os.getcwd())"
   ]
  },
  {
   "cell_type": "code",
   "execution_count": 5,
   "id": "88347fb7-3041-4aa6-8013-04d680657982",
   "metadata": {},
   "outputs": [],
   "source": [
    "vchg = VaspChargeDensity(filename='peak_1/WFN_SQUARED_B0271_K0006.vasp')\n",
    "atoms = vchg.atoms[0]\n",
    "array3d_chg=vchg.chg[0]"
   ]
  },
  {
   "cell_type": "code",
   "execution_count": 8,
   "id": "75a4c886-0373-4b72-b79f-e05f936ff9c3",
   "metadata": {},
   "outputs": [
    {
     "name": "stdout",
     "output_type": "stream",
     "text": [
      "{\n",
      "    \"float_chg\": 0.0005525695333523424\n",
      "}\n",
      "{\n",
      "    \"tup_shape\": [\n",
      "        199,\n",
      "        211,\n",
      "        678\n",
      "    ]\n",
      "}\n",
      "{\n",
      "    \"int_ngrid\": 28468542\n",
      "}\n",
      "{\n",
      "    \"float_volume\": 1809.7270137148748\n",
      "}\n",
      "{\n",
      "    \"float_volslice\": 6.356936065481945e-05\n",
      "}\n",
      "{\n",
      "    \"float_chg_volslice\": 3.512649195254033e-08\n",
      "}\n",
      "{\n",
      "    \"float_chg_volume\": 1.0000000114635565\n",
      "}\n"
     ]
    }
   ],
   "source": [
    "float_chg=numpy.sum(array3d_chg)\n",
    "from_xas_modules.def_print_paras( locals(), ['float_chg'] )\n",
    "\n",
    "tup_shape=numpy.shape(array3d_chg)\n",
    "from_xas_modules.def_print_paras( locals(), ['tup_shape'] )\n",
    "\n",
    "int_ngrid = 1\n",
    "for int_i in tup_shape:\n",
    "    int_ngrid *= int_i\n",
    "from_xas_modules.def_print_paras( locals(), ['int_ngrid'] )\n",
    "\n",
    "float_volume=atoms.get_volume()\n",
    "from_xas_modules.def_print_paras( locals(), ['float_volume'] )\n",
    "\n",
    "float_volslice = float_volume/int_ngrid\n",
    "from_xas_modules.def_print_paras( locals(), ['float_volslice'] )\n",
    "\n",
    "float_chg_volslice = float_chg*float_volslice\n",
    "from_xas_modules.def_print_paras( locals(), ['float_chg_volslice'] )\n",
    "\n",
    "float_chg_volume = float_chg*float_volume\n",
    "from_xas_modules.def_print_paras( locals(), ['float_chg_volume'] )"
   ]
  },
  {
   "cell_type": "code",
   "execution_count": 18,
   "id": "c7a81f43-330e-48dd-9d8b-8a08821bbbd8",
   "metadata": {},
   "outputs": [
    {
     "name": "stdout",
     "output_type": "stream",
     "text": [
      "{\n",
      "    \"array1d_atom1pos\": [\n",
      "        1.2756119928682728,\n",
      "        1.4026370280527225,\n",
      "        12.73790556498833\n",
      "    ]\n",
      "}\n",
      "{\n",
      "    \"array1d_cell\": [\n",
      "        7.934514,\n",
      "        8.415822,\n",
      "        27.101679\n",
      "    ]\n",
      "}\n",
      "{\n",
      "    \"array1d_gridpara\": [\n",
      "        0.039871929648241204,\n",
      "        0.03988541232227488,\n",
      "        0.039972977876106194\n",
      "    ]\n",
      "}\n",
      "{\n",
      "    \"array1d_atom1pos_grid\": [\n",
      "        31.992732835405707,\n",
      "        35.16666736999956,\n",
      "        318.662912842488\n",
      "    ]\n",
      "}\n"
     ]
    }
   ],
   "source": [
    "array1d_atom1pos = atoms.get_positions()[0]\n",
    "from_xas_modules.def_print_paras( locals(), ['array1d_atom1pos'] )\n",
    "\n",
    "array1d_cell = atoms.cell.cellpar()[0:3]\n",
    "from_xas_modules.def_print_paras( locals(), ['array1d_cell'] )\n",
    "\n",
    "array1d_gridpara = array1d_cell/tup_shape\n",
    "from_xas_modules.def_print_paras( locals(), ['array1d_gridpara'] )\n",
    "\n",
    "array1d_atom1pos_grid = array1d_atom1pos/array1d_gridpara\n",
    "from_xas_modules.def_print_paras( locals(), ['array1d_atom1pos_grid'] )"
   ]
  },
  {
   "cell_type": "code",
   "execution_count": null,
   "id": "f3aaff33-8d68-4ff4-bd49-5f6d59024a1e",
   "metadata": {},
   "outputs": [],
   "source": []
  }
 ],
 "metadata": {
  "kernelspec": {
   "display_name": "Python 3 (ipykernel)",
   "language": "python",
   "name": "python3"
  },
  "language_info": {
   "codemirror_mode": {
    "name": "ipython",
    "version": 3
   },
   "file_extension": ".py",
   "mimetype": "text/x-python",
   "name": "python",
   "nbconvert_exporter": "python",
   "pygments_lexer": "ipython3",
   "version": "3.7.11"
  }
 },
 "nbformat": 4,
 "nbformat_minor": 5
}
